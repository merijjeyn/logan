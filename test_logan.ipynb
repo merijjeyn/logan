{
 "cells": [
  {
   "cell_type": "markdown",
   "metadata": {},
   "source": [
    "# Logan Log Viewer - End-to-End Test\n",
    "\n",
    "This notebook demonstrates how to use the Logan log viewer package."
   ]
  },
  {
   "cell_type": "code",
   "execution_count": null,
   "metadata": {},
   "outputs": [
    {
     "name": "stdout",
     "output_type": "stream",
     "text": [
      " * Serving Flask app 'logan.server'\n",
      " * Debug mode: off\n"
     ]
    },
    {
     "name": "stderr",
     "output_type": "stream",
     "text": [
      "/Users/mericungor/Projects/logan/logan/server.py:5: UserWarning: pkg_resources is deprecated as an API. See https://setuptools.pypa.io/en/latest/pkg_resources.html. The pkg_resources package is slated for removal as early as 2025-11-30. Refrain from using this package or pin to Setuptools<81.\n",
      "  import pkg_resources\n",
      "\u001b[31m\u001b[1mWARNING: This is a development server. Do not use it in a production deployment. Use a production WSGI server instead.\u001b[0m\n",
      " * Running on all addresses (0.0.0.0)\n",
      " * Running on http://127.0.0.1:5002\n",
      " * Running on http://192.168.1.151:5002\n",
      "\u001b[33mPress CTRL+C to quit\u001b[0m\n"
     ]
    },
    {
     "name": "stdout",
     "output_type": "stream",
     "text": [
      "\n",
      "\u001b[92m\u001b[1m\n",
      "╦  ┌─┐┌─┐┌─┐┌┐┌\n",
      "║  │ ││ ┬├─┤│││\n",
      "╩═╝└─┘└─┘┴ ┴┘└┘\n",
      "\u001b[0m\n",
      "\u001b[96m\u001b[1m🌐 Logan Log Viewer is running!\u001b[0m\n",
      "\u001b[96m   👀 View logs at: \u001b[1mhttp://localhost:5002\u001b[0m\n",
      "\n"
     ]
    },
    {
     "name": "stderr",
     "output_type": "stream",
     "text": [
      "127.0.0.1 - - [30/Aug/2025 22:27:59] \"GET / HTTP/1.1\" 200 -\n",
      "127.0.0.1 - - [30/Aug/2025 22:27:59] \"GET /web_ui/styles.css HTTP/1.1\" 200 -\n",
      "127.0.0.1 - - [30/Aug/2025 22:27:59] \"GET /web_ui/app.js HTTP/1.1\" 200 -\n",
      "127.0.0.1 - - [30/Aug/2025 22:28:05] \"POST /api/log HTTP/1.1\" 200 -\n",
      "127.0.0.1 - - [30/Aug/2025 22:28:05] \"GET /api/logs/stream HTTP/1.1\" 200 -\n",
      "127.0.0.1 - - [30/Aug/2025 22:28:05] \"GET /api/logs/stream HTTP/1.1\" 200 -\n",
      "127.0.0.1 - - [30/Aug/2025 22:28:05] \"POST /api/log HTTP/1.1\" 200 -\n",
      "127.0.0.1 - - [30/Aug/2025 22:28:05] \"POST /api/log HTTP/1.1\" 200 -\n",
      "127.0.0.1 - - [30/Aug/2025 22:28:07] \"POST /api/log HTTP/1.1\" 200 -\n",
      "127.0.0.1 - - [30/Aug/2025 22:28:07] \"POST /api/log HTTP/1.1\" 200 -\n",
      "127.0.0.1 - - [30/Aug/2025 22:28:07] \"POST /api/log HTTP/1.1\" 200 -\n",
      "127.0.0.1 - - [30/Aug/2025 22:28:09] \"POST /api/log HTTP/1.1\" 200 -\n",
      "127.0.0.1 - - [30/Aug/2025 22:28:09] \"POST /api/log HTTP/1.1\" 200 -\n",
      "127.0.0.1 - - [30/Aug/2025 22:28:09] \"POST /api/log HTTP/1.1\" 200 -\n",
      "127.0.0.1 - - [30/Aug/2025 22:28:15] \"POST /api/log HTTP/1.1\" 200 -\n",
      "127.0.0.1 - - [30/Aug/2025 22:28:15] \"POST /api/log HTTP/1.1\" 200 -\n",
      "127.0.0.1 - - [30/Aug/2025 22:28:15] \"POST /api/log HTTP/1.1\" 200 -\n",
      "127.0.0.1 - - [30/Aug/2025 22:28:15] \"POST /api/log HTTP/1.1\" 200 -\n",
      "127.0.0.1 - - [30/Aug/2025 22:28:15] \"POST /api/log HTTP/1.1\" 200 -\n",
      "127.0.0.1 - - [30/Aug/2025 22:28:15] \"POST /api/log HTTP/1.1\" 200 -\n",
      "127.0.0.1 - - [30/Aug/2025 22:28:15] \"POST /api/log HTTP/1.1\" 200 -\n",
      "127.0.0.1 - - [30/Aug/2025 22:28:15] \"POST /api/log HTTP/1.1\" 200 -\n",
      "127.0.0.1 - - [30/Aug/2025 22:28:16] \"POST /api/log HTTP/1.1\" 200 -\n",
      "127.0.0.1 - - [30/Aug/2025 22:28:16] \"POST /api/log HTTP/1.1\" 200 -\n",
      "127.0.0.1 - - [30/Aug/2025 22:28:16] \"POST /api/log HTTP/1.1\" 200 -\n",
      "127.0.0.1 - - [30/Aug/2025 22:28:16] \"POST /api/log HTTP/1.1\" 200 -\n",
      "127.0.0.1 - - [30/Aug/2025 22:28:16] \"POST /api/log HTTP/1.1\" 200 -\n",
      "127.0.0.1 - - [30/Aug/2025 22:28:16] \"POST /api/log HTTP/1.1\" 200 -\n",
      "127.0.0.1 - - [30/Aug/2025 22:28:16] \"POST /api/log HTTP/1.1\" 200 -\n",
      "127.0.0.1 - - [30/Aug/2025 22:28:16] \"POST /api/log HTTP/1.1\" 200 -\n",
      "127.0.0.1 - - [30/Aug/2025 22:28:16] \"POST /api/log HTTP/1.1\" 200 -\n",
      "127.0.0.1 - - [30/Aug/2025 22:28:16] \"POST /api/log HTTP/1.1\" 200 -\n",
      "127.0.0.1 - - [30/Aug/2025 22:28:16] \"POST /api/log HTTP/1.1\" 200 -\n",
      "127.0.0.1 - - [30/Aug/2025 22:28:16] \"POST /api/log HTTP/1.1\" 200 -\n",
      "127.0.0.1 - - [30/Aug/2025 22:28:16] \"POST /api/log HTTP/1.1\" 200 -\n",
      "127.0.0.1 - - [30/Aug/2025 22:28:16] \"POST /api/log HTTP/1.1\" 200 -\n",
      "127.0.0.1 - - [30/Aug/2025 22:28:16] \"POST /api/log HTTP/1.1\" 200 -\n",
      "127.0.0.1 - - [30/Aug/2025 22:28:16] \"POST /api/log HTTP/1.1\" 200 -\n",
      "127.0.0.1 - - [30/Aug/2025 22:28:17] \"POST /api/log HTTP/1.1\" 200 -\n",
      "127.0.0.1 - - [30/Aug/2025 22:28:17] \"POST /api/log HTTP/1.1\" 200 -\n",
      "127.0.0.1 - - [30/Aug/2025 22:28:17] \"POST /api/log HTTP/1.1\" 200 -\n",
      "127.0.0.1 - - [30/Aug/2025 22:28:17] \"POST /api/log HTTP/1.1\" 200 -\n",
      "127.0.0.1 - - [30/Aug/2025 22:28:17] \"POST /api/log HTTP/1.1\" 200 -\n",
      "127.0.0.1 - - [30/Aug/2025 22:28:17] \"POST /api/log HTTP/1.1\" 200 -\n",
      "127.0.0.1 - - [30/Aug/2025 22:28:17] \"POST /api/log HTTP/1.1\" 200 -\n",
      "127.0.0.1 - - [30/Aug/2025 22:28:17] \"POST /api/log HTTP/1.1\" 200 -\n",
      "127.0.0.1 - - [30/Aug/2025 22:28:17] \"POST /api/log HTTP/1.1\" 200 -\n",
      "127.0.0.1 - - [30/Aug/2025 22:28:17] \"POST /api/log HTTP/1.1\" 200 -\n",
      "127.0.0.1 - - [30/Aug/2025 22:28:17] \"POST /api/log HTTP/1.1\" 200 -\n",
      "127.0.0.1 - - [30/Aug/2025 22:28:17] \"POST /api/log HTTP/1.1\" 200 -\n",
      "127.0.0.1 - - [30/Aug/2025 22:28:17] \"POST /api/log HTTP/1.1\" 200 -\n",
      "127.0.0.1 - - [30/Aug/2025 22:28:17] \"POST /api/log HTTP/1.1\" 200 -\n",
      "127.0.0.1 - - [30/Aug/2025 22:28:17] \"POST /api/log HTTP/1.1\" 200 -\n",
      "127.0.0.1 - - [30/Aug/2025 22:28:17] \"POST /api/log HTTP/1.1\" 200 -\n",
      "127.0.0.1 - - [30/Aug/2025 22:28:19] \"POST /api/log HTTP/1.1\" 200 -\n",
      "127.0.0.1 - - [30/Aug/2025 22:28:19] \"POST /api/log HTTP/1.1\" 200 -\n",
      "127.0.0.1 - - [30/Aug/2025 22:28:19] \"POST /api/log HTTP/1.1\" 200 -\n",
      "127.0.0.1 - - [30/Aug/2025 22:28:19] \"POST /api/log HTTP/1.1\" 200 -\n",
      "127.0.0.1 - - [30/Aug/2025 22:28:19] \"POST /api/log HTTP/1.1\" 200 -\n",
      "127.0.0.1 - - [30/Aug/2025 22:28:19] \"POST /api/log HTTP/1.1\" 200 -\n",
      "127.0.0.1 - - [30/Aug/2025 22:28:19] \"POST /api/log HTTP/1.1\" 200 -\n",
      "127.0.0.1 - - [30/Aug/2025 22:28:19] \"POST /api/log HTTP/1.1\" 200 -\n",
      "127.0.0.1 - - [30/Aug/2025 22:28:20] \"POST /api/log HTTP/1.1\" 200 -\n",
      "127.0.0.1 - - [30/Aug/2025 22:28:20] \"POST /api/log HTTP/1.1\" 200 -\n",
      "127.0.0.1 - - [30/Aug/2025 22:28:20] \"POST /api/log HTTP/1.1\" 200 -\n",
      "127.0.0.1 - - [30/Aug/2025 22:28:20] \"POST /api/log HTTP/1.1\" 200 -\n",
      "127.0.0.1 - - [30/Aug/2025 22:28:20] \"POST /api/log HTTP/1.1\" 200 -\n",
      "127.0.0.1 - - [30/Aug/2025 22:28:20] \"POST /api/log HTTP/1.1\" 200 -\n",
      "127.0.0.1 - - [30/Aug/2025 22:28:20] \"POST /api/log HTTP/1.1\" 200 -\n",
      "127.0.0.1 - - [30/Aug/2025 22:28:20] \"POST /api/log HTTP/1.1\" 200 -\n",
      "127.0.0.1 - - [30/Aug/2025 22:28:20] \"POST /api/log HTTP/1.1\" 200 -\n",
      "127.0.0.1 - - [30/Aug/2025 22:28:20] \"POST /api/log HTTP/1.1\" 200 -\n",
      "127.0.0.1 - - [30/Aug/2025 22:28:20] \"POST /api/log HTTP/1.1\" 200 -\n",
      "127.0.0.1 - - [30/Aug/2025 22:28:20] \"POST /api/log HTTP/1.1\" 200 -\n",
      "127.0.0.1 - - [30/Aug/2025 22:28:20] \"POST /api/log HTTP/1.1\" 200 -\n",
      "127.0.0.1 - - [30/Aug/2025 22:28:20] \"POST /api/log HTTP/1.1\" 200 -\n",
      "127.0.0.1 - - [30/Aug/2025 22:28:20] \"POST /api/log HTTP/1.1\" 200 -\n",
      "127.0.0.1 - - [30/Aug/2025 22:28:20] \"POST /api/log HTTP/1.1\" 200 -\n",
      "127.0.0.1 - - [30/Aug/2025 22:28:28] \"POST /api/log HTTP/1.1\" 200 -\n",
      "127.0.0.1 - - [30/Aug/2025 22:28:28] \"POST /api/log HTTP/1.1\" 200 -\n",
      "127.0.0.1 - - [30/Aug/2025 22:28:28] \"POST /api/log HTTP/1.1\" 200 -\n",
      "127.0.0.1 - - [30/Aug/2025 22:28:28] \"POST /api/log HTTP/1.1\" 200 -\n",
      "127.0.0.1 - - [30/Aug/2025 22:28:28] \"POST /api/log HTTP/1.1\" 200 -\n",
      "127.0.0.1 - - [30/Aug/2025 22:28:28] \"POST /api/log HTTP/1.1\" 200 -\n",
      "127.0.0.1 - - [30/Aug/2025 22:28:28] \"POST /api/log HTTP/1.1\" 200 -\n",
      "127.0.0.1 - - [30/Aug/2025 22:28:28] \"POST /api/log HTTP/1.1\" 200 -\n",
      "127.0.0.1 - - [30/Aug/2025 22:28:28] \"POST /api/log HTTP/1.1\" 200 -\n"
     ]
    }
   ],
   "source": [
    "# Import the Logan package\n",
    "from logan import Logan\n",
    "import time\n",
    "\n",
    "# Initialize Logan log viewer (this will start the web server)\n",
    "Logan.init(port=5002)  # Using port 5002 to avoid conflicts"
   ]
  },
  {
   "cell_type": "markdown",
   "metadata": {},
   "source": [
    "## Test Different Log Types\n",
    "\n",
    "Now let's test different types of log messages:"
   ]
  },
  {
   "cell_type": "code",
   "execution_count": 2,
   "metadata": {},
   "outputs": [],
   "source": [
    "# Test info logs\n",
    "Logan.log(\"Application started successfully\", type=\"info\", namespace=\"app\")\n",
    "Logan.log(\"User logged in\", type=\"info\", namespace=\"auth\")\n",
    "Logan.log(\"Database connection established\", type=\"info\", namespace=\"database\")"
   ]
  },
  {
   "cell_type": "code",
   "execution_count": 5,
   "metadata": {},
   "outputs": [],
   "source": [
    "# Test warning logs\n",
    "Logan.log(\"API rate limit approaching\", type=\"warning\", namespace=\"api\")\n",
    "Logan.log(\"Memory usage is high\", type=\"warning\", namespace=\"system\")\n",
    "Logan.log(\"Deprecated function called\", type=\"warning\", namespace=\"app\")"
   ]
  },
  {
   "cell_type": "code",
   "execution_count": 3,
   "metadata": {},
   "outputs": [],
   "source": [
    "# Test error logs\n",
    "Logan.log(\"Failed to connect to external service\", type=\"error\", namespace=\"api\")\n",
    "Logan.log(\"Configuration file not found\", type=\"error\", namespace=\"config\")\n",
    "Logan.log(\"Invalid user credentials\", type=\"error\", namespace=\"auth\")"
   ]
  },
  {
   "cell_type": "code",
   "execution_count": 7,
   "metadata": {},
   "outputs": [],
   "source": [
    "# Test debug logs\n",
    "Logan.log(\"Processing user request\", type=\"debug\", namespace=\"request\")\n",
    "Logan.log(\"Cache hit for user data\", type=\"debug\", namespace=\"cache\")\n",
    "Logan.log(\"SQL query executed in 23ms\", type=\"debug\", namespace=\"database\")"
   ]
  },
  {
   "cell_type": "markdown",
   "metadata": {},
   "source": [
    "## Test Exception Logging\n",
    "\n",
    "Let's test how Logan handles exceptions:"
   ]
  },
  {
   "cell_type": "code",
   "execution_count": 15,
   "metadata": {},
   "outputs": [],
   "source": [
    "# Test exception logging\n",
    "try:\n",
    "    # Simulate a division by zero error\n",
    "    result = 10 / 0\n",
    "except Exception as e:\n",
    "    Logan.log(\"Math operation failed\", type=\"error\", namespace=\"math\", exception=e)\n",
    "\n",
    "try:\n",
    "    # Simulate a file not found error\n",
    "    with open(\"nonexistent_file.txt\", \"r\") as f:\n",
    "        content = f.read()\n",
    "except Exception as e:\n",
    "    Logan.log(\"File operation failed\", type=\"error\", namespace=\"fileio\", exception=e)\n",
    "\n",
    "try:\n",
    "    # Simulate a type error\n",
    "    result = \"string\" + 42\n",
    "except Exception as e:\n",
    "    Logan.log(\"Type conversion failed\", type=\"error\", namespace=\"conversion\", exception=e)"
   ]
  },
  {
   "cell_type": "markdown",
   "metadata": {},
   "source": [
    "## Test Default Namespace\n",
    "\n",
    "Test logging with the default namespace:"
   ]
  },
  {
   "cell_type": "code",
   "execution_count": 22,
   "metadata": {},
   "outputs": [],
   "source": [
    "# Test default namespace (should be \"global\")\n",
    "Logan.log(\"This message uses the default namespace\")\n",
    "Logan.log(\"Another message with default settings\", type=\"info\")\n",
    "Logan.log(\"Warning with default namespace\", type=\"warning\")"
   ]
  },
  {
   "cell_type": "markdown",
   "metadata": {},
   "source": [
    "## Simulate Real Application Logging\n",
    "\n",
    "Let's simulate logging from a real application scenario:"
   ]
  },
  {
   "cell_type": "code",
   "execution_count": 12,
   "metadata": {},
   "outputs": [],
   "source": [
    "# Simulate a web application request processing\n",
    "def simulate_request_processing():\n",
    "    Logan.log(\"Received new HTTP request\", type=\"info\", namespace=\"web\")\n",
    "    Logan.log(\"Validating request parameters\", type=\"debug\", namespace=\"web\")\n",
    "    Logan.log(\"Authenticating user\", type=\"debug\", namespace=\"auth\")\n",
    "    Logan.log(\"User authenticated successfully\", type=\"info\", namespace=\"auth\")\n",
    "    Logan.log(\"Querying database for user data\", type=\"debug\", namespace=\"database\")\n",
    "    Logan.log(\"Database query completed in 150ms\", type=\"info\", namespace=\"database\")\n",
    "    Logan.log(\"Generating response\", type=\"debug\", namespace=\"web\")\n",
    "    Logan.log(\"Request completed successfully\", type=\"info\", namespace=\"web\")\n",
    "\n",
    "# Run the simulation\n",
    "simulate_request_processing()"
   ]
  },
  {
   "cell_type": "code",
   "execution_count": null,
   "metadata": {},
   "outputs": [],
   "source": [
    "# Simulate some error scenarios\n",
    "def simulate_error_scenarios():\n",
    "    Logan.log(\"Database connection timeout\", type=\"warning\", namespace=\"database\")\n",
    "    Logan.log(\"Retrying database connection\", type=\"info\", namespace=\"database\")\n",
    "    Logan.log(\"Connection restored\", type=\"info\", namespace=\"database\")\n",
    "    \n",
    "    # Simulate an actual exception\n",
    "    try:\n",
    "        # Simulate a network error\n",
    "        raise ConnectionError(\"Network unreachable\")\n",
    "    except Exception as e:\n",
    "        Logan.log(\"Network operation failed\", type=\"error\", namespace=\"network\", exception=e)\n",
    "    \n",
    "    Logan.log(\"Fallback to cached data\", type=\"warning\", namespace=\"cache\")\n",
    "    Logan.log(\"Request completed with cached data\", type=\"info\", namespace=\"web\")\n",
    "\n",
    "# Run the error simulation\n",
    "simulate_error_scenarios()"
   ]
  },
  {
   "cell_type": "markdown",
   "metadata": {},
   "source": [
    "## Test High Volume Logging\n",
    "\n",
    "Let's test how Logan handles multiple rapid log messages:"
   ]
  },
  {
   "cell_type": "code",
   "execution_count": null,
   "metadata": {},
   "outputs": [],
   "source": [
    "# Test rapid logging\n",
    "print(\"Sending 20 rapid log messages...\")\n",
    "for i in range(20):\n",
    "    Logan.log(f\"Batch processing item {i+1}/20\", type=\"debug\", namespace=\"batch\")\n",
    "    time.sleep(0.1)  # Small delay to see the real-time updates\n",
    "\n",
    "Logan.log(\"Batch processing completed\", type=\"info\", namespace=\"batch\")\n",
    "print(\"✅ Rapid logging test completed!\")"
   ]
  },
  {
   "cell_type": "markdown",
   "metadata": {},
   "source": [
    "## Test Complete!\n",
    "\n",
    "🎉 **Congratulations!** You've successfully tested the Logan log viewer.\n",
    "\n",
    "### What to check in the web UI:\n",
    "\n",
    "1. **Visit http://localhost:5002** to see all the logs\n",
    "2. **Filter by type**: Try selecting different log types (info, warning, error, debug)\n",
    "3. **Filter by namespace**: Try filtering by different namespaces (web, auth, database, etc.)\n",
    "4. **Click on logs**: Click any log entry to expand and see:\n",
    "   - Full message details\n",
    "   - Call stack information\n",
    "   - Exception details (for error logs with exceptions)\n",
    "5. **Real-time updates**: The logs should appear instantly as they're generated\n",
    "6. **Clear functions**: Try the \"Clear Logs\" and \"Clear Filters\" buttons\n",
    "\n",
    "### Features demonstrated:\n",
    "\n",
    "✅ **Different log types** with proper color coding  \n",
    "✅ **Multiple namespaces** for organizing logs  \n",
    "✅ **Exception logging** with full stack traces  \n",
    "✅ **Real-time streaming** using Server-Sent Events  \n",
    "✅ **Filtering capabilities** by type and namespace  \n",
    "✅ **Expandable log details** with call stack information  \n",
    "✅ **High-volume logging** performance  \n",
    "\n",
    "The Logan log viewer is now ready for use in your Python applications!"
   ]
  }
 ],
 "metadata": {
  "kernelspec": {
   "display_name": "logan_env",
   "language": "python",
   "name": "python3"
  },
  "language_info": {
   "codemirror_mode": {
    "name": "ipython",
    "version": 3
   },
   "file_extension": ".py",
   "mimetype": "text/x-python",
   "name": "python",
   "nbconvert_exporter": "python",
   "pygments_lexer": "ipython3",
   "version": "3.12.7"
  }
 },
 "nbformat": 4,
 "nbformat_minor": 4
}
